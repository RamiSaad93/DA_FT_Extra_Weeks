{
 "cells": [
  {
   "cell_type": "markdown",
   "id": "b7f1e325",
   "metadata": {},
   "source": [
    "\n",
    "# Unsupervised Learning Lab: Customer Segmentation\n",
    "\n",
    "## Introduction\n",
    "Welcome to the Unsupervised Learning lab. You will perform customer segmentation using unsupervised learning techniques on customer data from a store. You will read the dataset using pandas and apply various clustering algorithms to segment the customers.\n",
    "\n",
    "### Dataset\n",
    "The dataset contains the following columns:\n",
    "- `CustomerID`: Unique identifier for each customer\n",
    "- `Age`: Age of the customer\n",
    "- `AnnualIncome`: Annual income of the customer in dollars\n",
    "- `SpendingScore`: A score assigned to the customer based on their spending behavior\n",
    "\n",
    "### Instructions\n",
    "1. Follow the steps in each exercise to preprocess the data, apply the clustering algorithms, and visualize the results.\n",
    "2. Analyze the clusters and interpret the results.\n"
   ]
  },
  {
   "cell_type": "markdown",
   "id": "a0cae0cd",
   "metadata": {},
   "source": [
    "## Exercise 1: Data Preprocessing and Exploration\n",
    "1. Load the dataset using pandas.\n",
    "2. Explore the dataset to understand its structure and contents.\n",
    "3. Perform basic data cleaning, if necessary (e.g., handling missing values, if any).\n",
    "4. Standardize the numerical features to ensure they are on a similar scale."
   ]
  },
  {
   "cell_type": "code",
   "execution_count": 2,
   "id": "e3b8f8cb",
   "metadata": {},
   "outputs": [],
   "source": [
    "import pandas as pd\n",
    "import numpy as np\n",
    "from sklearn.preprocessing import StandardScaler\n",
    "\n",
    "#Your answer"
   ]
  },
  {
   "cell_type": "markdown",
   "id": "1e8bd820",
   "metadata": {},
   "source": [
    "## Exercise 2: K-Means Clustering\n",
    "1. Apply K-Means clustering to segment the customers based on their `Age`, `AnnualIncome`, and `SpendingScore`.\n",
    "2. Determine the optimal number of clusters using the Elbow method.\n",
    "3. Visualize the clusters using scatter plots."
   ]
  },
  {
   "cell_type": "code",
   "execution_count": 3,
   "id": "54de5f00",
   "metadata": {},
   "outputs": [],
   "source": [
    "import matplotlib.pyplot as plt\n",
    "from sklearn.cluster import KMeans\n",
    "\n",
    "#Your answer"
   ]
  },
  {
   "cell_type": "markdown",
   "id": "03b07ba2",
   "metadata": {},
   "source": [
    "## Exercise 3: Hierarchical Clustering\n",
    "1. Apply Agglomerative Hierarchical Clustering to the same features.\n",
    "2. Use a dendrogram to determine the optimal number of clusters.\n",
    "3. Visualize the clusters using scatter plots."
   ]
  },
  {
   "cell_type": "code",
   "execution_count": 4,
   "id": "83ba2997",
   "metadata": {},
   "outputs": [],
   "source": [
    "from scipy.cluster.hierarchy import dendrogram, linkage\n",
    "from sklearn.cluster import AgglomerativeClustering\n",
    "\n",
    "#Your answer"
   ]
  },
  {
   "cell_type": "markdown",
   "id": "f570cbf1",
   "metadata": {},
   "source": [
    "## Exercise 4: DBSCAN Clustering\n",
    "1. Apply DBSCAN clustering to the same features.\n",
    "2. Experiment with different values of `eps` and `min_samples` to find the best clustering results.\n",
    "3. Visualize the clusters using scatter plots."
   ]
  },
  {
   "cell_type": "code",
   "execution_count": 6,
   "id": "12e76dcf",
   "metadata": {},
   "outputs": [],
   "source": [
    "from sklearn.cluster import DBSCAN\n",
    "\n",
    "#Your answer"
   ]
  }
 ],
 "metadata": {
  "kernelspec": {
   "display_name": "Python 3 (ipykernel)",
   "language": "python",
   "name": "python3"
  },
  "language_info": {
   "codemirror_mode": {
    "name": "ipython",
    "version": 3
   },
   "file_extension": ".py",
   "mimetype": "text/x-python",
   "name": "python",
   "nbconvert_exporter": "python",
   "pygments_lexer": "ipython3",
   "version": "3.9.13"
  }
 },
 "nbformat": 4,
 "nbformat_minor": 5
}
