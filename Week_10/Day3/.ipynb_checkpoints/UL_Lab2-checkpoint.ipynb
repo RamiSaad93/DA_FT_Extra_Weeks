{
 "cells": [
  {
   "cell_type": "markdown",
   "id": "f5acdb51",
   "metadata": {},
   "source": [
    "\n",
    "# Unsupervised Learning Lab: Evaluation Metrics\n",
    "\n",
    "## Introduction\n",
    "In this lab, you will evaluate the performance of the customer segmentation models that you created yesterday. You will use various evaluation metrics for unsupervised learning to assess the quality of the clusters.\n",
    "\n",
    "### Evaluation Metrics\n",
    "The following metrics will be used to evaluate the clustering models:\n",
    "1. Silhouette Score\n",
    "2. Davies-Bouldin Index\n",
    "3. Calinski-Harabasz Index\n",
    "\n",
    "## Exercise 1: Calculate Silhouette Score\n",
    "1. Calculate the Silhouette Score for the K-Means clustering model.\n",
    "2. Calculate the Silhouette Score for the Hierarchical clustering model.\n",
    "3. Calculate the Silhouette Score for the DBSCAN clustering model.\n",
    "\n",
    "## Exercise 2: Calculate Davies-Bouldin Index\n",
    "1. Calculate the Davies-Bouldin Index for the K-Means clustering model.\n",
    "2. Calculate the Davies-Bouldin Index for the Hierarchical clustering model.\n",
    "3. Calculate the Davies-Bouldin Index for the DBSCAN clustering model.\n",
    "\n",
    "## Exercise 3: Calculate Calinski-Harabasz Index\n",
    "1. Calculate the Calinski-Harabasz Index for the K-Means clustering model.\n",
    "2. Calculate the Calinski-Harabasz Index for the Hierarchical clustering model.\n",
    "3. Calculate the Calinski-Harabasz Index for the DBSCAN clustering model.\n",
    "\n",
    "### Instructions\n",
    "1. Load the dataset and the clustering results from the previous lab.\n",
    "2. Use the `sklearn.metrics` module to calculate the evaluation metrics.\n",
    "3. Interpret the results and compare the performance of the different clustering models.\n"
   ]
  },
  {
   "cell_type": "code",
   "execution_count": 15,
   "id": "e093468b",
   "metadata": {},
   "outputs": [],
   "source": [
    "import pandas as pd\n",
    "import numpy as np\n",
    "\n",
    "from sklearn import cluster\n",
    "from sklearn.preprocessing import StandardScaler\n",
    "\n",
    "from sklearn.cluster import KMeans\n",
    "from sklearn.cluster import AgglomerativeClustering\n",
    "from scipy.cluster.hierarchy import dendrogram, linkage\n",
    "from sklearn.cluster import DBSCAN"
   ]
  },
  {
   "cell_type": "code",
   "execution_count": 16,
   "id": "04b30058",
   "metadata": {},
   "outputs": [],
   "source": [
    "#Evaluation metrics\n",
    "from sklearn.metrics import silhouette_score\n",
    "from sklearn.metrics import davies_bouldin_score\n",
    "from sklearn.metrics import calinski_harabasz_score"
   ]
  },
  {
   "cell_type": "code",
   "execution_count": 17,
   "id": "c565c0cb",
   "metadata": {},
   "outputs": [
    {
     "data": {
      "text/html": [
       "<div>\n",
       "<style scoped>\n",
       "    .dataframe tbody tr th:only-of-type {\n",
       "        vertical-align: middle;\n",
       "    }\n",
       "\n",
       "    .dataframe tbody tr th {\n",
       "        vertical-align: top;\n",
       "    }\n",
       "\n",
       "    .dataframe thead th {\n",
       "        text-align: right;\n",
       "    }\n",
       "</style>\n",
       "<table border=\"1\" class=\"dataframe\">\n",
       "  <thead>\n",
       "    <tr style=\"text-align: right;\">\n",
       "      <th></th>\n",
       "      <th>Age</th>\n",
       "      <th>AnnualIncome</th>\n",
       "      <th>SpendingScore</th>\n",
       "    </tr>\n",
       "  </thead>\n",
       "  <tbody>\n",
       "    <tr>\n",
       "      <th>0</th>\n",
       "      <td>0.853003</td>\n",
       "      <td>0.395549</td>\n",
       "      <td>0.331292</td>\n",
       "    </tr>\n",
       "    <tr>\n",
       "      <th>1</th>\n",
       "      <td>1.729608</td>\n",
       "      <td>-0.016514</td>\n",
       "      <td>-0.542232</td>\n",
       "    </tr>\n",
       "    <tr>\n",
       "      <th>2</th>\n",
       "      <td>0.178692</td>\n",
       "      <td>-0.292815</td>\n",
       "      <td>1.528345</td>\n",
       "    </tr>\n",
       "    <tr>\n",
       "      <th>3</th>\n",
       "      <td>-0.765343</td>\n",
       "      <td>-1.578610</td>\n",
       "      <td>1.269522</td>\n",
       "    </tr>\n",
       "    <tr>\n",
       "      <th>4</th>\n",
       "      <td>1.122728</td>\n",
       "      <td>0.441453</td>\n",
       "      <td>0.104823</td>\n",
       "    </tr>\n",
       "    <tr>\n",
       "      <th>...</th>\n",
       "      <td>...</td>\n",
       "      <td>...</td>\n",
       "      <td>...</td>\n",
       "    </tr>\n",
       "    <tr>\n",
       "      <th>95</th>\n",
       "      <td>-0.091032</td>\n",
       "      <td>1.616391</td>\n",
       "      <td>-0.801054</td>\n",
       "    </tr>\n",
       "    <tr>\n",
       "      <th>96</th>\n",
       "      <td>1.257590</td>\n",
       "      <td>1.636381</td>\n",
       "      <td>0.169528</td>\n",
       "    </tr>\n",
       "    <tr>\n",
       "      <th>97</th>\n",
       "      <td>0.987866</td>\n",
       "      <td>-1.209187</td>\n",
       "      <td>-0.509880</td>\n",
       "    </tr>\n",
       "    <tr>\n",
       "      <th>98</th>\n",
       "      <td>0.178692</td>\n",
       "      <td>0.562844</td>\n",
       "      <td>-0.801054</td>\n",
       "    </tr>\n",
       "    <tr>\n",
       "      <th>99</th>\n",
       "      <td>-0.765343</td>\n",
       "      <td>-0.495010</td>\n",
       "      <td>0.848937</td>\n",
       "    </tr>\n",
       "  </tbody>\n",
       "</table>\n",
       "<p>100 rows × 3 columns</p>\n",
       "</div>"
      ],
      "text/plain": [
       "         Age  AnnualIncome  SpendingScore\n",
       "0   0.853003      0.395549       0.331292\n",
       "1   1.729608     -0.016514      -0.542232\n",
       "2   0.178692     -0.292815       1.528345\n",
       "3  -0.765343     -1.578610       1.269522\n",
       "4   1.122728      0.441453       0.104823\n",
       "..       ...           ...            ...\n",
       "95 -0.091032      1.616391      -0.801054\n",
       "96  1.257590      1.636381       0.169528\n",
       "97  0.987866     -1.209187      -0.509880\n",
       "98  0.178692      0.562844      -0.801054\n",
       "99 -0.765343     -0.495010       0.848937\n",
       "\n",
       "[100 rows x 3 columns]"
      ]
     },
     "execution_count": 17,
     "metadata": {},
     "output_type": "execute_result"
    }
   ],
   "source": [
    "df = pd.read_csv(\"C:\\\\Users\\\\ramya\\\\Downloads\\\\customer_data.csv\")\n",
    "df\n",
    "\n",
    "df.describe()\n",
    "\n",
    "df = df.drop(columns = ['CustomerID'])\n",
    "\n",
    "df.isnull().sum()\n",
    "\n",
    "df_scaled = StandardScaler().fit_transform(df)\n",
    "\n",
    "df = pd.DataFrame(df_scaled, columns = df.columns)\n",
    "\n",
    "df"
   ]
  },
  {
   "cell_type": "markdown",
   "id": "198a01fd",
   "metadata": {},
   "source": [
    "# Kmeans"
   ]
  },
  {
   "cell_type": "code",
   "execution_count": 64,
   "id": "cc71df9b",
   "metadata": {},
   "outputs": [
    {
     "name": "stderr",
     "output_type": "stream",
     "text": [
      "C:\\Users\\ramya\\anaconda3\\lib\\site-packages\\sklearn\\cluster\\_kmeans.py:1429: UserWarning: KMeans is known to have a memory leak on Windows with MKL, when there are less chunks than available threads. You can avoid it by setting the environment variable OMP_NUM_THREADS=1.\n",
      "  warnings.warn(\n"
     ]
    }
   ],
   "source": [
    "kmeans = cluster.KMeans(n_clusters=3, random_state=0)\n",
    "df[\"KMeans_Cluster\"] = kmeans.fit_predict(df[['Age', 'AnnualIncome', 'SpendingScore']])"
   ]
  },
  {
   "cell_type": "code",
   "execution_count": 65,
   "id": "f7468971",
   "metadata": {},
   "outputs": [
    {
     "data": {
      "text/plain": [
       "0     1\n",
       "1     1\n",
       "2     2\n",
       "3     2\n",
       "4     1\n",
       "     ..\n",
       "95    0\n",
       "96    1\n",
       "97    2\n",
       "98    1\n",
       "99    2\n",
       "Name: KMeans_Cluster, Length: 100, dtype: int32"
      ]
     },
     "execution_count": 65,
     "metadata": {},
     "output_type": "execute_result"
    }
   ],
   "source": [
    "df[\"KMeans_Cluster\"]"
   ]
  },
  {
   "cell_type": "code",
   "execution_count": 66,
   "id": "2c381b32",
   "metadata": {},
   "outputs": [
    {
     "name": "stdout",
     "output_type": "stream",
     "text": [
      "Silhouette Score: 0.27408167479057666\n"
     ]
    }
   ],
   "source": [
    "sil_score = silhouette_score(df[['Age', 'AnnualIncome', 'SpendingScore']], df[\"KMeans_Cluster\"])\n",
    "print(f\"Silhouette Score: {sil_score}\")"
   ]
  },
  {
   "cell_type": "code",
   "execution_count": 67,
   "id": "9d02d316",
   "metadata": {},
   "outputs": [
    {
     "name": "stdout",
     "output_type": "stream",
     "text": [
      "Calinski-Harabasz Index: 39.44726630374726\n"
     ]
    }
   ],
   "source": [
    "ch_score = calinski_harabasz_score(df[['Age', 'AnnualIncome', 'SpendingScore']], df[\"KMeans_Cluster\"])\n",
    "print(f\"Calinski-Harabasz Index: {ch_score}\")"
   ]
  },
  {
   "cell_type": "code",
   "execution_count": 68,
   "id": "02308b4c",
   "metadata": {},
   "outputs": [
    {
     "name": "stdout",
     "output_type": "stream",
     "text": [
      "Davies-Bouldin Index: 1.2658255184837606\n"
     ]
    }
   ],
   "source": [
    "db_score = davies_bouldin_score(df[['Age', 'AnnualIncome', 'SpendingScore']], df[\"KMeans_Cluster\"])\n",
    "print(f\"Davies-Bouldin Index: {db_score}\")"
   ]
  },
  {
   "cell_type": "markdown",
   "id": "f8108add",
   "metadata": {},
   "source": [
    "# Agglomerative Hierarchical Clustering"
   ]
  },
  {
   "cell_type": "code",
   "execution_count": 46,
   "id": "b3e84a2a",
   "metadata": {},
   "outputs": [],
   "source": [
    "agglomerative = cluster.AgglomerativeClustering(n_clusters=5,linkage='ward')\n",
    "df[\"Hierarchical_Cluster\"] = agglomerative.fit_predict(df[['Age', 'AnnualIncome', 'SpendingScore']])"
   ]
  },
  {
   "cell_type": "code",
   "execution_count": 47,
   "id": "9c5ea589",
   "metadata": {},
   "outputs": [
    {
     "data": {
      "text/plain": [
       "0     2\n",
       "1     3\n",
       "2     0\n",
       "3     0\n",
       "4     2\n",
       "     ..\n",
       "95    1\n",
       "96    2\n",
       "97    3\n",
       "98    3\n",
       "99    0\n",
       "Name: Hierarchical_Cluster, Length: 100, dtype: int64"
      ]
     },
     "execution_count": 47,
     "metadata": {},
     "output_type": "execute_result"
    }
   ],
   "source": [
    "df[\"Hierarchical_Cluster\"]"
   ]
  },
  {
   "cell_type": "code",
   "execution_count": 48,
   "id": "1f23f796",
   "metadata": {},
   "outputs": [
    {
     "name": "stdout",
     "output_type": "stream",
     "text": [
      "Silhouette Score: 0.2777275442788798\n"
     ]
    }
   ],
   "source": [
    "sil_score = silhouette_score(df[['Age', 'AnnualIncome', 'SpendingScore']], df[\"Hierarchical_Cluster\"])\n",
    "print(f\"Silhouette Score: {sil_score}\")"
   ]
  },
  {
   "cell_type": "code",
   "execution_count": 49,
   "id": "5337ed1f",
   "metadata": {},
   "outputs": [
    {
     "name": "stdout",
     "output_type": "stream",
     "text": [
      "Calinski-Harabasz Index: 39.499283699636926\n"
     ]
    }
   ],
   "source": [
    "ch_score = calinski_harabasz_score(df[['Age', 'AnnualIncome', 'SpendingScore']], df[\"Hierarchical_Cluster\"])\n",
    "print(f\"Calinski-Harabasz Index: {ch_score}\")"
   ]
  },
  {
   "cell_type": "code",
   "execution_count": 50,
   "id": "04ebb128",
   "metadata": {},
   "outputs": [
    {
     "name": "stdout",
     "output_type": "stream",
     "text": [
      "Davies-Bouldin Index: 0.950163972662341\n"
     ]
    }
   ],
   "source": [
    "db_score = davies_bouldin_score(df[['Age', 'AnnualIncome', 'SpendingScore']], df[\"Hierarchical_Cluster\"])\n",
    "print(f\"Davies-Bouldin Index: {db_score}\")"
   ]
  },
  {
   "cell_type": "markdown",
   "id": "542c257d",
   "metadata": {},
   "source": [
    "#  DBSCAN Clustering"
   ]
  },
  {
   "cell_type": "code",
   "execution_count": 94,
   "id": "4a33108e",
   "metadata": {},
   "outputs": [],
   "source": [
    "dbscan = DBSCAN(eps=0.5, min_samples=4)\n",
    "df['DBSCAN_Cluster'] = dbscan.fit_predict(df[['Age', 'AnnualIncome', 'SpendingScore']])"
   ]
  },
  {
   "cell_type": "code",
   "execution_count": 95,
   "id": "459a603d",
   "metadata": {},
   "outputs": [
    {
     "data": {
      "text/plain": [
       "0     0\n",
       "1    -1\n",
       "2     3\n",
       "3    -1\n",
       "4     0\n",
       "     ..\n",
       "95   -1\n",
       "96   -1\n",
       "97   -1\n",
       "98   -1\n",
       "99   -1\n",
       "Name: DBSCAN_Cluster, Length: 100, dtype: int64"
      ]
     },
     "execution_count": 95,
     "metadata": {},
     "output_type": "execute_result"
    }
   ],
   "source": [
    "df['DBSCAN_Cluster']"
   ]
  },
  {
   "cell_type": "code",
   "execution_count": 96,
   "id": "f48d230a",
   "metadata": {},
   "outputs": [
    {
     "name": "stdout",
     "output_type": "stream",
     "text": [
      "Silhouette Score: -0.14914156460934522\n"
     ]
    }
   ],
   "source": [
    "sil_score = silhouette_score(df[['Age', 'AnnualIncome', 'SpendingScore']], df['DBSCAN_Cluster'])\n",
    "print(f\"Silhouette Score: {sil_score}\")"
   ]
  },
  {
   "cell_type": "code",
   "execution_count": 97,
   "id": "11ee0fd3",
   "metadata": {},
   "outputs": [
    {
     "name": "stdout",
     "output_type": "stream",
     "text": [
      "Calinski-Harabasz Index: 4.243720066306933\n"
     ]
    }
   ],
   "source": [
    "ch_score = calinski_harabasz_score(df[['Age', 'AnnualIncome', 'SpendingScore']], df['DBSCAN_Cluster'])\n",
    "print(f\"Calinski-Harabasz Index: {ch_score}\")"
   ]
  },
  {
   "cell_type": "code",
   "execution_count": 98,
   "id": "2b01a471",
   "metadata": {},
   "outputs": [
    {
     "name": "stdout",
     "output_type": "stream",
     "text": [
      "Davies-Bouldin Index: 1.5715532773947418\n"
     ]
    }
   ],
   "source": [
    "db_score = davies_bouldin_score(df[['Age', 'AnnualIncome', 'SpendingScore']], df['DBSCAN_Cluster'])\n",
    "print(f\"Davies-Bouldin Index: {db_score}\")"
   ]
  },
  {
   "cell_type": "code",
   "execution_count": null,
   "id": "c5f64063",
   "metadata": {},
   "outputs": [],
   "source": []
  }
 ],
 "metadata": {
  "kernelspec": {
   "display_name": "Python 3 (ipykernel)",
   "language": "python",
   "name": "python3"
  },
  "language_info": {
   "codemirror_mode": {
    "name": "ipython",
    "version": 3
   },
   "file_extension": ".py",
   "mimetype": "text/x-python",
   "name": "python",
   "nbconvert_exporter": "python",
   "pygments_lexer": "ipython3",
   "version": "3.9.13"
  }
 },
 "nbformat": 4,
 "nbformat_minor": 5
}
